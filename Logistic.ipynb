{
 "cells": [
  {
   "cell_type": "code",
   "execution_count": 5,
   "id": "e60d0cda-407f-4036-b0f9-a4dcbbec7df0",
   "metadata": {},
   "outputs": [
    {
     "name": "stdout",
     "output_type": "stream",
     "text": [
      "              precision    recall  f1-score   support\n",
      "\n",
      "           0       0.94      0.94      0.94     24201\n",
      "           1       0.91      0.93      0.92     28164\n",
      "           2       0.81      0.76      0.78      6929\n",
      "           3       0.90      0.90      0.90     11441\n",
      "           4       0.86      0.84      0.85      9594\n",
      "           5       0.78      0.71      0.74      3033\n",
      "\n",
      "    accuracy                           0.90     83362\n",
      "   macro avg       0.87      0.85      0.86     83362\n",
      "weighted avg       0.90      0.90      0.90     83362\n",
      "\n"
     ]
    },
    {
     "name": "stderr",
     "output_type": "stream",
     "text": [
      "C:\\Users\\ssure\\Desktop\\Ticket_management\\env\\Lib\\site-packages\\sklearn\\linear_model\\_logistic.py:469: ConvergenceWarning: lbfgs failed to converge (status=1):\n",
      "STOP: TOTAL NO. of ITERATIONS REACHED LIMIT.\n",
      "\n",
      "Increase the number of iterations (max_iter) or scale the data as shown in:\n",
      "    https://scikit-learn.org/stable/modules/preprocessing.html\n",
      "Please also refer to the documentation for alternative solver options:\n",
      "    https://scikit-learn.org/stable/modules/linear_model.html#logistic-regression\n",
      "  n_iter_i = _check_optimize_result(\n"
     ]
    }
   ],
   "source": [
    "import pandas as pd\n",
    "from sklearn.model_selection import train_test_split\n",
    "from sklearn.feature_extraction.text import TfidfVectorizer\n",
    "from sklearn.linear_model import LogisticRegression\n",
    "from sklearn.metrics import classification_report\n",
    "\n",
    "# Load the dataset\n",
    "data = pd.read_csv('text.csv')  \n",
    "\n",
    "# Preprocess the data (assuming 'text' is the column with text data and 'emotion' is the label)\n",
    "data['text'] = data['text'].str.lower()  # Lowercase\n",
    "data['text'] = data['text'].str.replace('[^\\w\\s]', '')  # Remove punctuation\n",
    "\n",
    "# Split the data into training and testing sets\n",
    "X_train, X_test, y_train, y_test = train_test_split(data['text'], data['label'], test_size=0.2, random_state=42)\n",
    "\n",
    "#('Sadness',0)\n",
    "#('Joy',1)\n",
    "#('Love',2)\n",
    "#('Anger',3)\n",
    "#('Fear',4)\n",
    "#('Surprise',5)\n",
    "\n",
    "# Vectorize the text data\n",
    "vectorizer = TfidfVectorizer()\n",
    "X_train_tfidf = vectorizer.fit_transform(X_train)\n",
    "X_test_tfidf = vectorizer.transform(X_test)\n",
    "\n",
    "# Train a logistic regression model\n",
    "model = LogisticRegression()\n",
    "model.fit(X_train_tfidf, y_train)\n",
    "\n",
    "# Make predictions\n",
    "y_pred = model.predict(X_test_tfidf)\n",
    "\n",
    "# Evaluate the model\n",
    "print(classification_report(y_test, y_pred))"
   ]
  },
  {
   "cell_type": "code",
   "execution_count": 7,
   "id": "ffb05d4b-98dc-4d70-90cf-1170cfd8dd39",
   "metadata": {},
   "outputs": [
    {
     "name": "stdout",
     "output_type": "stream",
     "text": [
      "Text: I am so happy with my new job! | Predicted Sentiment: 1\n",
      "Text: This is the worst experience I've ever had. | Predicted Sentiment: 1\n",
      "Text: I feel confused about the situation. | Predicted Sentiment: 4\n",
      "Text: I am satisfied with the service. | Predicted Sentiment: 1\n"
     ]
    }
   ],
   "source": [
    "# Assuming you have already trained your model and have the vectorizer\n",
    "import pandas as pd\n",
    "\n",
    "# Example new text for prediction\n",
    "new_texts = [\n",
    "    \"I am so happy with my new job!\",\n",
    "    \"This is the worst experience I've ever had.\",\n",
    "    \"I feel confused about the situation.\",\n",
    "    \"I am satisfied with the service.\"\n",
    "]\n",
    "\n",
    "# Preprocess the new text\n",
    "new_texts_processed = [text.lower().replace('[^\\w\\s]', '') for text in new_texts]\n",
    "\n",
    "# Vectorize the new text using the same vectorizer\n",
    "new_texts_tfidf = vectorizer.transform(new_texts_processed)\n",
    "\n",
    "# Make predictions\n",
    "predictions = model.predict(new_texts_tfidf)\n",
    "\n",
    "# Display the predictions\n",
    "for text, sentiment in zip(new_texts, predictions):\n",
    "    print(f\"Text: {text} | Predicted Sentiment: {sentiment}\")"
   ]
  },
  {
   "cell_type": "code",
   "execution_count": null,
   "id": "6c9f5721-89d6-4d96-b130-8c812ac9bb8c",
   "metadata": {},
   "outputs": [],
   "source": []
  }
 ],
 "metadata": {
  "kernelspec": {
   "display_name": "tic",
   "language": "python",
   "name": "tic"
  },
  "language_info": {
   "codemirror_mode": {
    "name": "ipython",
    "version": 3
   },
   "file_extension": ".py",
   "mimetype": "text/x-python",
   "name": "python",
   "nbconvert_exporter": "python",
   "pygments_lexer": "ipython3",
   "version": "3.11.9"
  }
 },
 "nbformat": 4,
 "nbformat_minor": 5
}
